{
 "cells": [
  {
   "cell_type": "code",
   "execution_count": null,
   "id": "f31d9555-54c0-4255-91fa-7785a10cd6d5",
   "metadata": {},
   "outputs": [],
   "source": [
    "# this is practice to GitHub working"
   ]
  },
  {
   "cell_type": "code",
   "execution_count": null,
   "id": "895649a5-ccd4-427a-b80a-c41183466db7",
   "metadata": {},
   "outputs": [],
   "source": [
    "# test"
   ]
  }
 ],
 "metadata": {
  "kernelspec": {
   "display_name": "Python 3 (ipykernel)",
   "language": "python",
   "name": "python3"
  },
  "language_info": {
   "codemirror_mode": {
    "name": "ipython",
    "version": 3
   },
   "file_extension": ".py",
   "mimetype": "text/x-python",
   "name": "python",
   "nbconvert_exporter": "python",
   "pygments_lexer": "ipython3",
   "version": "3.13.5"
  }
 },
 "nbformat": 4,
 "nbformat_minor": 5
}
