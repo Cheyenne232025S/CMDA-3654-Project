{
 "cells": [
  {
   "cell_type": "code",
   "execution_count": null,
   "id": "f31d9555-54c0-4255-91fa-7785a10cd6d5",
   "metadata": {},
   "outputs": [],
   "source": [
    "# this is practice to GitHub working"
   ]
<<<<<<< HEAD
=======
  },
  {
   "cell_type": "code",
   "execution_count": null,
   "id": "895649a5-ccd4-427a-b80a-c41183466db7",
   "metadata": {},
   "outputs": [],
   "source": [
    "# test"
   ]
>>>>>>> cc1be2d31cec8de0e7b5d86c040f36c1d0d98d9e
  }
 ],
 "metadata": {
  "kernelspec": {
<<<<<<< HEAD
   "display_name": "Python [conda env:base] *",
   "language": "python",
   "name": "conda-base-py"
=======
   "display_name": "Python 3 (ipykernel)",
   "language": "python",
   "name": "python3"
>>>>>>> cc1be2d31cec8de0e7b5d86c040f36c1d0d98d9e
  },
  "language_info": {
   "codemirror_mode": {
    "name": "ipython",
    "version": 3
   },
   "file_extension": ".py",
   "mimetype": "text/x-python",
   "name": "python",
   "nbconvert_exporter": "python",
   "pygments_lexer": "ipython3",
<<<<<<< HEAD
   "version": "3.11.5"
=======
   "version": "3.13.5"
>>>>>>> cc1be2d31cec8de0e7b5d86c040f36c1d0d98d9e
  }
 },
 "nbformat": 4,
 "nbformat_minor": 5
}
