{
 "cells": [
  {
   "cell_type": "markdown",
   "id": "4c3b4040-6466-4253-9fd4-5359062ccecd",
   "metadata": {},
   "source": [
    "# Team Info:\n",
    "### Project Title: \n",
    "State SAT score prediction\n",
    "### Group Name:\n",
    "Group 20\n",
    "### Members: \n",
    "- Ziad Bushnaq - ziadbushnaq1\n",
    "- Kathleen Reece - katkreece501\n",
    "- Evan Merricks - evan315\n",
    "- Cheyenne Erickson - cheyenne23"
   ]
  },
  {
   "cell_type": "markdown",
   "id": "9a6373b7-3037-40ec-8143-fee3a2e8ec72",
   "metadata": {},
   "source": [
    "# Project Introduction:\n",
    "### Initial Description of Project Topic:\n",
    "We are exploring how we can predict average state scores given various data on GPAs, family income, number of test takers, characteristics of public schools in the state, and possibly other datasets as needed.\n",
    "### Potential research questions:\n",
    "- What are the best predictors of SAT score?\n",
    "- Do different regions (South, Midwest, etc) have different predictors?\n",
    "- Do different sub scores (Verbal, Writing, Math) have different predictors?\n",
    "- Are SAT scores best predicted by purely academic factors (GPAs, school characteristics, etc), or by socio-economic factors (Income, demographics, etc.)?\n",
    "### Potential Data Sources\n",
    "- https://corgis-edu.github.io/corgis/csv/school_scores/ - Dataset of average SAT Scores by state from 2005 to 2015, with further averages for test takers of particular GPAs, genders, and economic statuses\n",
    "- https://catalog.data.gov/dataset/public-school-characteristics-current-340b1 - Dataset of US public schools and various characteristics about each, including location, student demographics, number of teachers, etc."
   ]
  }
 ],
 "metadata": {
  "kernelspec": {
   "display_name": "Python [conda env:base] *",
   "language": "python",
   "name": "conda-base-py"
  },
  "language_info": {
   "codemirror_mode": {
    "name": "ipython",
    "version": 3
   },
   "file_extension": ".py",
   "mimetype": "text/x-python",
   "name": "python",
   "nbconvert_exporter": "python",
   "pygments_lexer": "ipython3",
   "version": "3.11.5"
  }
 },
 "nbformat": 4,
 "nbformat_minor": 5
}
